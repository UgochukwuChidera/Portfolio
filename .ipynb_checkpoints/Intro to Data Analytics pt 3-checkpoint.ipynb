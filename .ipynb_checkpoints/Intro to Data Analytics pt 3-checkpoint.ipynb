{
 "cells": [
  {
   "cell_type": "code",
   "execution_count": 1,
   "id": "e387f217",
   "metadata": {},
   "outputs": [],
   "source": [
    "# Import the necessary libraries\n",
    "\n",
    "import pandas as pd\n",
    "import numpy as np\n",
    "import seaborn as sns\n",
    "import matplotlib.pyplot as plt\n",
    "%matplotlib inline\n",
    "sns.set(color_codes = True)"
   ]
  },
  {
   "cell_type": "code",
   "execution_count": 2,
   "id": "ad802edd",
   "metadata": {},
   "outputs": [
    {
     "data": {
      "text/html": [
       "<div>\n",
       "<style scoped>\n",
       "    .dataframe tbody tr th:only-of-type {\n",
       "        vertical-align: middle;\n",
       "    }\n",
       "\n",
       "    .dataframe tbody tr th {\n",
       "        vertical-align: top;\n",
       "    }\n",
       "\n",
       "    .dataframe thead th {\n",
       "        text-align: right;\n",
       "    }\n",
       "</style>\n",
       "<table border=\"1\" class=\"dataframe\">\n",
       "  <thead>\n",
       "    <tr style=\"text-align: right;\">\n",
       "      <th></th>\n",
       "      <th>HOS ID NO</th>\n",
       "      <th>Age</th>\n",
       "      <th>Gender</th>\n",
       "      <th>Marit Status</th>\n",
       "      <th>Fam. Type</th>\n",
       "      <th>Religion</th>\n",
       "      <th>HLOE</th>\n",
       "      <th>Social Class</th>\n",
       "      <th>Income</th>\n",
       "      <th>Ethnicity</th>\n",
       "      <th>...</th>\n",
       "      <th>GE_dehydration</th>\n",
       "      <th>GE_Edema</th>\n",
       "      <th>ANT-Wt</th>\n",
       "      <th>ANT_Ht</th>\n",
       "      <th>BMI</th>\n",
       "      <th>Genotype</th>\n",
       "      <th>PCV</th>\n",
       "      <th>Clos_1</th>\n",
       "      <th>Clos_2</th>\n",
       "      <th>Clos_3</th>\n",
       "    </tr>\n",
       "    <tr>\n",
       "      <th>SNO</th>\n",
       "      <th></th>\n",
       "      <th></th>\n",
       "      <th></th>\n",
       "      <th></th>\n",
       "      <th></th>\n",
       "      <th></th>\n",
       "      <th></th>\n",
       "      <th></th>\n",
       "      <th></th>\n",
       "      <th></th>\n",
       "      <th></th>\n",
       "      <th></th>\n",
       "      <th></th>\n",
       "      <th></th>\n",
       "      <th></th>\n",
       "      <th></th>\n",
       "      <th></th>\n",
       "      <th></th>\n",
       "      <th></th>\n",
       "      <th></th>\n",
       "      <th></th>\n",
       "    </tr>\n",
       "  </thead>\n",
       "  <tbody>\n",
       "    <tr>\n",
       "      <th>1</th>\n",
       "      <td>327.0</td>\n",
       "      <td>39</td>\n",
       "      <td>NaN</td>\n",
       "      <td>1.0</td>\n",
       "      <td>Extended</td>\n",
       "      <td>1.0</td>\n",
       "      <td>4.0</td>\n",
       "      <td>3.0</td>\n",
       "      <td>52000.0</td>\n",
       "      <td>1.0</td>\n",
       "      <td>...</td>\n",
       "      <td>1.0</td>\n",
       "      <td>NaN</td>\n",
       "      <td>54</td>\n",
       "      <td>NaN</td>\n",
       "      <td>NaN</td>\n",
       "      <td>SS</td>\n",
       "      <td>27.0</td>\n",
       "      <td>NaN</td>\n",
       "      <td>3.0</td>\n",
       "      <td>Respondent single, as such interview was not f...</td>\n",
       "    </tr>\n",
       "    <tr>\n",
       "      <th>2</th>\n",
       "      <td>718.0</td>\n",
       "      <td>26</td>\n",
       "      <td>2.0</td>\n",
       "      <td>1.0</td>\n",
       "      <td>Polygamous</td>\n",
       "      <td>1.0</td>\n",
       "      <td>4.0</td>\n",
       "      <td>2.0</td>\n",
       "      <td>80000.0</td>\n",
       "      <td>2.0</td>\n",
       "      <td>...</td>\n",
       "      <td>NaN</td>\n",
       "      <td>NaN</td>\n",
       "      <td></td>\n",
       "      <td>NaN</td>\n",
       "      <td>NaN</td>\n",
       "      <td>SS</td>\n",
       "      <td>23.0</td>\n",
       "      <td>Feel Delighted</td>\n",
       "      <td>2.0</td>\n",
       "      <td>NaN</td>\n",
       "    </tr>\n",
       "    <tr>\n",
       "      <th>3</th>\n",
       "      <td>800.0</td>\n",
       "      <td>56</td>\n",
       "      <td>1.0</td>\n",
       "      <td>2.0</td>\n",
       "      <td>Monogamous</td>\n",
       "      <td>2.0</td>\n",
       "      <td>4.0</td>\n",
       "      <td>3.0</td>\n",
       "      <td>80000.0</td>\n",
       "      <td>4.0</td>\n",
       "      <td>...</td>\n",
       "      <td>NaN</td>\n",
       "      <td>NaN</td>\n",
       "      <td>50</td>\n",
       "      <td>NaN</td>\n",
       "      <td>NaN</td>\n",
       "      <td>SS</td>\n",
       "      <td>30.0</td>\n",
       "      <td>NaN</td>\n",
       "      <td>NaN</td>\n",
       "      <td>Can help caregivers in taking care of SCD Pts</td>\n",
       "    </tr>\n",
       "  </tbody>\n",
       "</table>\n",
       "<p>3 rows × 50 columns</p>\n",
       "</div>"
      ],
      "text/plain": [
       "     HOS ID NO  Age  Gender  Marit Status   Fam. Type  Religion  HLOE  \\\n",
       "SNO                                                                     \n",
       "1        327.0   39     NaN           1.0    Extended       1.0   4.0   \n",
       "2        718.0   26     2.0           1.0  Polygamous       1.0   4.0   \n",
       "3        800.0   56     1.0           2.0  Monogamous       2.0   4.0   \n",
       "\n",
       "     Social Class   Income  Ethnicity  ...  GE_dehydration  GE_Edema  ANT-Wt  \\\n",
       "SNO                                    ...                                     \n",
       "1             3.0  52000.0        1.0  ...             1.0       NaN      54   \n",
       "2             2.0  80000.0        2.0  ...             NaN       NaN           \n",
       "3             3.0  80000.0        4.0  ...             NaN       NaN      50   \n",
       "\n",
       "    ANT_Ht BMI  Genotype   PCV          Clos_1  Clos_2  \\\n",
       "SNO                                                      \n",
       "1      NaN NaN        SS  27.0             NaN     3.0   \n",
       "2      NaN NaN        SS  23.0  Feel Delighted     2.0   \n",
       "3      NaN NaN        SS  30.0             NaN     NaN   \n",
       "\n",
       "                                                Clos_3  \n",
       "SNO                                                     \n",
       "1    Respondent single, as such interview was not f...  \n",
       "2                                                  NaN  \n",
       "3       Can help caregivers in taking care of SCD Pts   \n",
       "\n",
       "[3 rows x 50 columns]"
      ]
     },
     "execution_count": 2,
     "metadata": {},
     "output_type": "execute_result"
    }
   ],
   "source": [
    "df = pd.read_excel(\"Questionnaire.xlsx\", index_col = \"SNO\")\n",
    "df.head(3)"
   ]
  },
  {
   "cell_type": "code",
   "execution_count": 3,
   "id": "a983326f",
   "metadata": {},
   "outputs": [
    {
     "data": {
      "text/plain": [
       "HOS ID NO             float64\n",
       "Age                     int64\n",
       "Gender                float64\n",
       "Marit Status          float64\n",
       "Fam. Type              object\n",
       "Religion              float64\n",
       "HLOE                  float64\n",
       "Social Class          float64\n",
       "Income                float64\n",
       "Ethnicity             float64\n",
       "Age of Child          float64\n",
       "Gender.1              float64\n",
       "HLOE of Child         float64\n",
       "No of Sib              object\n",
       "No of Affected Sib     object\n",
       "Dur of care           float64\n",
       "Prev Hosp             float64\n",
       "Prev BT               float64\n",
       "VOC                   float64\n",
       "IFB-A                 float64\n",
       "IFB-B                 float64\n",
       "IFB_C                 float64\n",
       "IFB_Total             float64\n",
       "IDFI_A                float64\n",
       "IDFI_B                float64\n",
       "IDFI_C                float64\n",
       "IDFI_Total            float64\n",
       "IDRFA_A               float64\n",
       "IDRFA_B               float64\n",
       "IDRFA_C               float64\n",
       "IDRFA_D               float64\n",
       "IDRFA_Total           float64\n",
       "ICCA_A                float64\n",
       "ICCA_B                float64\n",
       "ICCA_C                float64\n",
       "ICCA_D                float64\n",
       "ICCA_E                float64\n",
       "ICCA_Total            float64\n",
       "GE_Palor              float64\n",
       "GE_Jaundice           float64\n",
       "GE_dehydration        float64\n",
       "GE_Edema               object\n",
       "ANT-Wt                 object\n",
       "ANT_Ht                float64\n",
       "BMI                   float64\n",
       "Genotype               object\n",
       "PCV                   float64\n",
       "Clos_1                 object\n",
       "Clos_2                float64\n",
       "Clos_3                 object\n",
       "dtype: object"
      ]
     },
     "execution_count": 3,
     "metadata": {},
     "output_type": "execute_result"
    }
   ],
   "source": [
    "df.dtypes"
   ]
  },
  {
   "cell_type": "code",
   "execution_count": 4,
   "id": "f875e55a",
   "metadata": {},
   "outputs": [
    {
     "data": {
      "text/plain": [
       "array(['HOS ID NO', 'Age', 'Gender', 'Marit Status', 'Fam. Type',\n",
       "       'Religion', 'HLOE', 'Social Class', 'Income', 'Ethnicity',\n",
       "       'Age of Child', 'Gender.1', 'HLOE of Child', 'No of Sib',\n",
       "       'No of Affected Sib', 'Dur of care', 'Prev Hosp', 'Prev BT', 'VOC',\n",
       "       'IFB-A', 'IFB-B', 'IFB_C', 'IFB_Total', 'IDFI_A', 'IDFI_B',\n",
       "       'IDFI_C', 'IDFI_Total', 'IDRFA_A', 'IDRFA_B', 'IDRFA_C', 'IDRFA_D',\n",
       "       'IDRFA_Total', 'ICCA_A', 'ICCA_B', 'ICCA_C', 'ICCA_D', 'ICCA_E',\n",
       "       'ICCA_Total', 'GE_Palor', 'GE_Jaundice', 'GE_dehydration',\n",
       "       'GE_Edema', 'ANT-Wt', 'ANT_Ht', 'BMI', 'Genotype', 'PCV', 'Clos_1',\n",
       "       'Clos_2', 'Clos_3'], dtype=object)"
      ]
     },
     "execution_count": 4,
     "metadata": {},
     "output_type": "execute_result"
    }
   ],
   "source": [
    "df.columns.values\n",
    "# This converts the DataFrame into a NumPy array."
   ]
  },
  {
   "cell_type": "code",
   "execution_count": 5,
   "id": "324ee638",
   "metadata": {},
   "outputs": [
    {
     "data": {
      "text/plain": [
       "(67, 50)"
      ]
     },
     "execution_count": 5,
     "metadata": {},
     "output_type": "execute_result"
    }
   ],
   "source": [
    "df.shape"
   ]
  },
  {
   "cell_type": "code",
   "execution_count": 6,
   "id": "890ea9b6",
   "metadata": {},
   "outputs": [
    {
     "data": {
      "text/plain": [
       "(67, 49)"
      ]
     },
     "execution_count": 6,
     "metadata": {},
     "output_type": "execute_result"
    }
   ],
   "source": [
    "df = df.drop([\"HOS ID NO\"], axis=1)\n",
    "df.shape"
   ]
  },
  {
   "cell_type": "code",
   "execution_count": 7,
   "id": "06b638ea",
   "metadata": {},
   "outputs": [
    {
     "data": {
      "text/html": [
       "<div>\n",
       "<style scoped>\n",
       "    .dataframe tbody tr th:only-of-type {\n",
       "        vertical-align: middle;\n",
       "    }\n",
       "\n",
       "    .dataframe tbody tr th {\n",
       "        vertical-align: top;\n",
       "    }\n",
       "\n",
       "    .dataframe thead th {\n",
       "        text-align: right;\n",
       "    }\n",
       "</style>\n",
       "<table border=\"1\" class=\"dataframe\">\n",
       "  <thead>\n",
       "    <tr style=\"text-align: right;\">\n",
       "      <th></th>\n",
       "      <th>Age</th>\n",
       "      <th>Gender</th>\n",
       "      <th>Marit Status</th>\n",
       "      <th>Fam. Type</th>\n",
       "      <th>Religion</th>\n",
       "      <th>HLOE</th>\n",
       "      <th>Social Class</th>\n",
       "      <th>Income</th>\n",
       "      <th>Ethnicity</th>\n",
       "      <th>Age of Child</th>\n",
       "      <th>...</th>\n",
       "      <th>GE_dehydration</th>\n",
       "      <th>GE_Edema</th>\n",
       "      <th>ANT-Wt</th>\n",
       "      <th>ANT_Ht</th>\n",
       "      <th>BMI</th>\n",
       "      <th>Genotype</th>\n",
       "      <th>PCV</th>\n",
       "      <th>Clos_1</th>\n",
       "      <th>Clos_2</th>\n",
       "      <th>Clos_3</th>\n",
       "    </tr>\n",
       "    <tr>\n",
       "      <th>SNO</th>\n",
       "      <th></th>\n",
       "      <th></th>\n",
       "      <th></th>\n",
       "      <th></th>\n",
       "      <th></th>\n",
       "      <th></th>\n",
       "      <th></th>\n",
       "      <th></th>\n",
       "      <th></th>\n",
       "      <th></th>\n",
       "      <th></th>\n",
       "      <th></th>\n",
       "      <th></th>\n",
       "      <th></th>\n",
       "      <th></th>\n",
       "      <th></th>\n",
       "      <th></th>\n",
       "      <th></th>\n",
       "      <th></th>\n",
       "      <th></th>\n",
       "      <th></th>\n",
       "    </tr>\n",
       "  </thead>\n",
       "  <tbody>\n",
       "  </tbody>\n",
       "</table>\n",
       "<p>0 rows × 49 columns</p>\n",
       "</div>"
      ],
      "text/plain": [
       "Empty DataFrame\n",
       "Columns: [Age, Gender, Marit Status, Fam. Type, Religion, HLOE, Social Class, Income, Ethnicity, Age of Child, Gender.1, HLOE of Child, No of Sib, No of Affected Sib, Dur of care, Prev Hosp, Prev BT, VOC, IFB-A, IFB-B, IFB_C, IFB_Total, IDFI_A, IDFI_B, IDFI_C, IDFI_Total, IDRFA_A, IDRFA_B, IDRFA_C, IDRFA_D, IDRFA_Total, ICCA_A, ICCA_B, ICCA_C, ICCA_D, ICCA_E, ICCA_Total, GE_Palor, GE_Jaundice, GE_dehydration, GE_Edema, ANT-Wt, ANT_Ht, BMI, Genotype, PCV, Clos_1, Clos_2, Clos_3]\n",
       "Index: []\n",
       "\n",
       "[0 rows x 49 columns]"
      ]
     },
     "execution_count": 7,
     "metadata": {},
     "output_type": "execute_result"
    }
   ],
   "source": [
    "duplicates = df[df.duplicated()]\n",
    "duplicates"
   ]
  },
  {
   "cell_type": "code",
   "execution_count": 8,
   "id": "bfd6a7d3",
   "metadata": {},
   "outputs": [
    {
     "data": {
      "text/html": [
       "<div>\n",
       "<style scoped>\n",
       "    .dataframe tbody tr th:only-of-type {\n",
       "        vertical-align: middle;\n",
       "    }\n",
       "\n",
       "    .dataframe tbody tr th {\n",
       "        vertical-align: top;\n",
       "    }\n",
       "\n",
       "    .dataframe thead th {\n",
       "        text-align: right;\n",
       "    }\n",
       "</style>\n",
       "<table border=\"1\" class=\"dataframe\">\n",
       "  <thead>\n",
       "    <tr style=\"text-align: right;\">\n",
       "      <th></th>\n",
       "      <th>Age</th>\n",
       "      <th>Gender</th>\n",
       "      <th>Marit Status</th>\n",
       "      <th>Fam. Type</th>\n",
       "      <th>Religion</th>\n",
       "      <th>HLOE</th>\n",
       "      <th>Social Class</th>\n",
       "      <th>Income</th>\n",
       "      <th>Ethnicity</th>\n",
       "      <th>Age of Child</th>\n",
       "      <th>...</th>\n",
       "      <th>GE_dehydration</th>\n",
       "      <th>GE_Edema</th>\n",
       "      <th>ANT-Wt</th>\n",
       "      <th>ANT_Ht</th>\n",
       "      <th>BMI</th>\n",
       "      <th>Genotype</th>\n",
       "      <th>PCV</th>\n",
       "      <th>Clos_1</th>\n",
       "      <th>Clos_2</th>\n",
       "      <th>Clos_3</th>\n",
       "    </tr>\n",
       "    <tr>\n",
       "      <th>SNO</th>\n",
       "      <th></th>\n",
       "      <th></th>\n",
       "      <th></th>\n",
       "      <th></th>\n",
       "      <th></th>\n",
       "      <th></th>\n",
       "      <th></th>\n",
       "      <th></th>\n",
       "      <th></th>\n",
       "      <th></th>\n",
       "      <th></th>\n",
       "      <th></th>\n",
       "      <th></th>\n",
       "      <th></th>\n",
       "      <th></th>\n",
       "      <th></th>\n",
       "      <th></th>\n",
       "      <th></th>\n",
       "      <th></th>\n",
       "      <th></th>\n",
       "      <th></th>\n",
       "    </tr>\n",
       "  </thead>\n",
       "  <tbody>\n",
       "    <tr>\n",
       "      <th>1</th>\n",
       "      <td>39</td>\n",
       "      <td>NaN</td>\n",
       "      <td>1.0</td>\n",
       "      <td>Extended</td>\n",
       "      <td>1.0</td>\n",
       "      <td>4.0</td>\n",
       "      <td>3.0</td>\n",
       "      <td>52000.0</td>\n",
       "      <td>1.0</td>\n",
       "      <td>NaN</td>\n",
       "      <td>...</td>\n",
       "      <td>1.0</td>\n",
       "      <td>NaN</td>\n",
       "      <td>54</td>\n",
       "      <td>NaN</td>\n",
       "      <td>NaN</td>\n",
       "      <td>SS</td>\n",
       "      <td>27.0</td>\n",
       "      <td>NaN</td>\n",
       "      <td>3.0</td>\n",
       "      <td>Respondent single, as such interview was not f...</td>\n",
       "    </tr>\n",
       "    <tr>\n",
       "      <th>2</th>\n",
       "      <td>26</td>\n",
       "      <td>2.0</td>\n",
       "      <td>1.0</td>\n",
       "      <td>Polygamous</td>\n",
       "      <td>1.0</td>\n",
       "      <td>4.0</td>\n",
       "      <td>2.0</td>\n",
       "      <td>80000.0</td>\n",
       "      <td>2.0</td>\n",
       "      <td>7.0</td>\n",
       "      <td>...</td>\n",
       "      <td>NaN</td>\n",
       "      <td>NaN</td>\n",
       "      <td></td>\n",
       "      <td>NaN</td>\n",
       "      <td>NaN</td>\n",
       "      <td>SS</td>\n",
       "      <td>23.0</td>\n",
       "      <td>Feel Delighted</td>\n",
       "      <td>2.0</td>\n",
       "      <td>NaN</td>\n",
       "    </tr>\n",
       "    <tr>\n",
       "      <th>3</th>\n",
       "      <td>56</td>\n",
       "      <td>1.0</td>\n",
       "      <td>2.0</td>\n",
       "      <td>Monogamous</td>\n",
       "      <td>2.0</td>\n",
       "      <td>4.0</td>\n",
       "      <td>3.0</td>\n",
       "      <td>80000.0</td>\n",
       "      <td>4.0</td>\n",
       "      <td>18.0</td>\n",
       "      <td>...</td>\n",
       "      <td>NaN</td>\n",
       "      <td>NaN</td>\n",
       "      <td>50</td>\n",
       "      <td>NaN</td>\n",
       "      <td>NaN</td>\n",
       "      <td>SS</td>\n",
       "      <td>30.0</td>\n",
       "      <td>NaN</td>\n",
       "      <td>NaN</td>\n",
       "      <td>Can help caregivers in taking care of SCD Pts</td>\n",
       "    </tr>\n",
       "  </tbody>\n",
       "</table>\n",
       "<p>3 rows × 49 columns</p>\n",
       "</div>"
      ],
      "text/plain": [
       "     Age  Gender  Marit Status   Fam. Type  Religion  HLOE  Social Class  \\\n",
       "SNO                                                                        \n",
       "1     39     NaN           1.0    Extended       1.0   4.0           3.0   \n",
       "2     26     2.0           1.0  Polygamous       1.0   4.0           2.0   \n",
       "3     56     1.0           2.0  Monogamous       2.0   4.0           3.0   \n",
       "\n",
       "      Income  Ethnicity  Age of Child  ...  GE_dehydration  GE_Edema ANT-Wt  \\\n",
       "SNO                                    ...                                    \n",
       "1    52000.0        1.0           NaN  ...             1.0       NaN     54   \n",
       "2    80000.0        2.0           7.0  ...             NaN       NaN          \n",
       "3    80000.0        4.0          18.0  ...             NaN       NaN     50   \n",
       "\n",
       "    ANT_Ht  BMI  Genotype   PCV          Clos_1  Clos_2  \\\n",
       "SNO                                                       \n",
       "1      NaN  NaN        SS  27.0             NaN     3.0   \n",
       "2      NaN  NaN        SS  23.0  Feel Delighted     2.0   \n",
       "3      NaN  NaN        SS  30.0             NaN     NaN   \n",
       "\n",
       "                                                Clos_3  \n",
       "SNO                                                     \n",
       "1    Respondent single, as such interview was not f...  \n",
       "2                                                  NaN  \n",
       "3       Can help caregivers in taking care of SCD Pts   \n",
       "\n",
       "[3 rows x 49 columns]"
      ]
     },
     "execution_count": 8,
     "metadata": {},
     "output_type": "execute_result"
    }
   ],
   "source": [
    "df = df.drop_duplicates()\n",
    "df.head(3)"
   ]
  },
  {
   "cell_type": "code",
   "execution_count": 9,
   "id": "3d6d12d0",
   "metadata": {},
   "outputs": [
    {
     "data": {
      "text/plain": [
       "Age                    0\n",
       "Gender                 3\n",
       "Marit Status           1\n",
       "Fam. Type             10\n",
       "Religion               2\n",
       "HLOE                   2\n",
       "Social Class           7\n",
       "Income                21\n",
       "Ethnicity              2\n",
       "Age of Child           3\n",
       "Gender.1               2\n",
       "HLOE of Child          3\n",
       "No of Sib              4\n",
       "No of Affected Sib     3\n",
       "Dur of care            9\n",
       "Prev Hosp              3\n",
       "Prev BT                3\n",
       "VOC                    3\n",
       "IFB-A                  2\n",
       "IFB-B                  2\n",
       "IFB_C                  2\n",
       "IFB_Total              2\n",
       "IDFI_A                 2\n",
       "IDFI_B                 2\n",
       "IDFI_C                 2\n",
       "IDFI_Total             2\n",
       "IDRFA_A                2\n",
       "IDRFA_B                2\n",
       "IDRFA_C                2\n",
       "IDRFA_D                2\n",
       "IDRFA_Total            2\n",
       "ICCA_A                 3\n",
       "ICCA_B                 2\n",
       "ICCA_C                 2\n",
       "ICCA_D                 2\n",
       "ICCA_E                 3\n",
       "ICCA_Total             2\n",
       "GE_Palor               9\n",
       "GE_Jaundice           10\n",
       "GE_dehydration         7\n",
       "GE_Edema               9\n",
       "ANT-Wt                11\n",
       "ANT_Ht                44\n",
       "BMI                   50\n",
       "Genotype              15\n",
       "PCV                    7\n",
       "Clos_1                15\n",
       "Clos_2                21\n",
       "Clos_3                17\n",
       "dtype: int64"
      ]
     },
     "execution_count": 9,
     "metadata": {},
     "output_type": "execute_result"
    }
   ],
   "source": [
    "df.isnull().sum()"
   ]
  },
  {
   "cell_type": "code",
   "execution_count": 10,
   "id": "bbf2dc1a",
   "metadata": {},
   "outputs": [
    {
     "name": "stdout",
     "output_type": "stream",
     "text": [
      "<class 'pandas.core.frame.DataFrame'>\n",
      "Int64Index: 11 entries, 13 to 24\n",
      "Data columns (total 49 columns):\n",
      " #   Column              Non-Null Count  Dtype  \n",
      "---  ------              --------------  -----  \n",
      " 0   Age                 11 non-null     int64  \n",
      " 1   Gender              11 non-null     float64\n",
      " 2   Marit Status        11 non-null     float64\n",
      " 3   Fam. Type           11 non-null     object \n",
      " 4   Religion            11 non-null     float64\n",
      " 5   HLOE                11 non-null     float64\n",
      " 6   Social Class        11 non-null     float64\n",
      " 7   Income              11 non-null     float64\n",
      " 8   Ethnicity           11 non-null     float64\n",
      " 9   Age of Child        11 non-null     float64\n",
      " 10  Gender.1            11 non-null     float64\n",
      " 11  HLOE of Child       11 non-null     float64\n",
      " 12  No of Sib           11 non-null     object \n",
      " 13  No of Affected Sib  11 non-null     object \n",
      " 14  Dur of care         11 non-null     float64\n",
      " 15  Prev Hosp           11 non-null     float64\n",
      " 16  Prev BT             11 non-null     float64\n",
      " 17  VOC                 11 non-null     float64\n",
      " 18  IFB-A               11 non-null     float64\n",
      " 19  IFB-B               11 non-null     float64\n",
      " 20  IFB_C               11 non-null     float64\n",
      " 21  IFB_Total           11 non-null     float64\n",
      " 22  IDFI_A              11 non-null     float64\n",
      " 23  IDFI_B              11 non-null     float64\n",
      " 24  IDFI_C              11 non-null     float64\n",
      " 25  IDFI_Total          11 non-null     float64\n",
      " 26  IDRFA_A             11 non-null     float64\n",
      " 27  IDRFA_B             11 non-null     float64\n",
      " 28  IDRFA_C             11 non-null     float64\n",
      " 29  IDRFA_D             11 non-null     float64\n",
      " 30  IDRFA_Total         11 non-null     float64\n",
      " 31  ICCA_A              11 non-null     float64\n",
      " 32  ICCA_B              11 non-null     float64\n",
      " 33  ICCA_C              11 non-null     float64\n",
      " 34  ICCA_D              11 non-null     float64\n",
      " 35  ICCA_E              11 non-null     float64\n",
      " 36  ICCA_Total          11 non-null     float64\n",
      " 37  GE_Palor            11 non-null     float64\n",
      " 38  GE_Jaundice         11 non-null     float64\n",
      " 39  GE_dehydration      11 non-null     float64\n",
      " 40  GE_Edema            11 non-null     object \n",
      " 41  ANT-Wt              11 non-null     object \n",
      " 42  ANT_Ht              11 non-null     float64\n",
      " 43  BMI                 11 non-null     float64\n",
      " 44  Genotype            11 non-null     object \n",
      " 45  PCV                 11 non-null     float64\n",
      " 46  Clos_1              11 non-null     object \n",
      " 47  Clos_2              11 non-null     float64\n",
      " 48  Clos_3              11 non-null     object \n",
      "dtypes: float64(40), int64(1), object(8)\n",
      "memory usage: 4.3+ KB\n"
     ]
    }
   ],
   "source": [
    "df= df.dropna()\n",
    "df.info()"
   ]
  },
  {
   "cell_type": "code",
   "execution_count": 11,
   "id": "33fb965c",
   "metadata": {},
   "outputs": [
    {
     "data": {
      "text/plain": [
       "(11, 49)"
      ]
     },
     "execution_count": 11,
     "metadata": {},
     "output_type": "execute_result"
    }
   ],
   "source": [
    "df.shape"
   ]
  },
  {
   "cell_type": "code",
   "execution_count": 12,
   "id": "f52d1585",
   "metadata": {},
   "outputs": [
    {
     "data": {
      "text/plain": [
       "<AxesSubplot:xlabel='Age'>"
      ]
     },
     "execution_count": 12,
     "metadata": {},
     "output_type": "execute_result"
    },
    {
     "data": {
      "image/png": "[encoded data removed]",
      "text/plain": [
       "<Figure size 432x288 with 1 Axes>"
      ]
     },
     "metadata": {},
     "output_type": "display_data"
    }
   ],
   "source": [
    "sns.boxplot(x=df[\"Age\"])"
   ]
  },
  {
   "cell_type": "code",
   "execution_count": 14,
   "id": "5036eadb",
   "metadata": {},
   "outputs": [
    {
     "data": {
      "text/plain": [
       "<AxesSubplot:xlabel='Income'>"
      ]
     },
     "execution_count": 14,
     "metadata": {},
     "output_type": "execute_result"
    },
    {
     "data": {
      "image/png": "[encoded data removed]",
      "text/plain": [
       "<Figure size 432x288 with 1 Axes>"
      ]
     },
     "metadata": {},
     "output_type": "display_data"
    }
   ],
   "source": [
    "sns.boxplot(x=df[\"Income\"])"
   ]
  },
  {
   "cell_type": "code",
   "execution_count": 16,
   "id": "552ad71d",
   "metadata": {},
   "outputs": [
    {
     "data": {
      "text/plain": [
       "Text(0, 0.5, 'Ethnicity')"
      ]
     },
     "execution_count": 16,
     "metadata": {},
     "output_type": "execute_result"
    },
    {
     "data": {
      "image/png": "[encoded data removed]",
      "text/plain": [
       "<Figure size 144x864 with 1 Axes>"
      ]
     },
     "metadata": {},
     "output_type": "display_data"
    }
   ],
   "source": [
    "df.Ethnicity.value_counts().nlargest(2).plot(kind=\"hist\", figsize=(2, 12))\n",
    "plt.title(\"Highest population\")\n",
    "plt.xlabel(\"Number\")\n",
    "plt.ylabel(\"Ethnicity\")"
   ]
  },
  {
   "cell_type": "code",
   "execution_count": null,
   "id": "5fcb7092",
   "metadata": {},
   "outputs": [],
   "source": [
    "df.loc[df[\"\"]]"
   ]
  }
 ],
 "metadata": {
  "kernelspec": {
   "display_name": "Python 3 (ipykernel)",
   "language": "python",
   "name": "python3"
  },
  "language_info": {
   "codemirror_mode": {
    "name": "ipython",
    "version": 3
   },
   "file_extension": ".py",
   "mimetype": "text/x-python",
   "name": "python",
   "nbconvert_exporter": "python",
   "pygments_lexer": "ipython3",
   "version": "3.9.12"
  }
 },
 "nbformat": 4,
 "nbformat_minor": 5
}
