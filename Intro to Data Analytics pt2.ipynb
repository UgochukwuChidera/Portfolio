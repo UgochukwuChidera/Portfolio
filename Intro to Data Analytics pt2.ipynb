{
 "cells": [
  {
   "cell_type": "code",
   "execution_count": 2,
   "id": "db4455ee",
   "metadata": {},
   "outputs": [],
   "source": [
    "import numpy as np"
   ]
  },
  {
   "cell_type": "code",
   "execution_count": 3,
   "id": "4c7a34a0",
   "metadata": {},
   "outputs": [
    {
     "data": {
      "text/plain": [
       "array([1, 2, 3, 4, 5])"
      ]
     },
     "execution_count": 3,
     "metadata": {},
     "output_type": "execute_result"
    }
   ],
   "source": [
    "arr = np.array([1, 2, 3, 4, 5])\n",
    "arr"
   ]
  },
  {
   "cell_type": "code",
   "execution_count": 5,
   "id": "83ae3215",
   "metadata": {},
   "outputs": [
    {
     "data": {
      "text/plain": [
       "array([1, 2, 3, 4, 5, 6])"
      ]
     },
     "execution_count": 5,
     "metadata": {},
     "output_type": "execute_result"
    }
   ],
   "source": [
    "arr = np.append(arr, 6)\n",
    "arr"
   ]
  },
  {
   "cell_type": "code",
   "execution_count": 8,
   "id": "17a52b33",
   "metadata": {},
   "outputs": [
    {
     "data": {
      "text/plain": [
       "array([1, 2, 1, 2, 4, 1, 2, 4, 3, 4, 5, 6])"
      ]
     },
     "execution_count": 8,
     "metadata": {},
     "output_type": "execute_result"
    }
   ],
   "source": [
    "arr = np.insert(arr, 2, [1, 2, 4])\n",
    "arr"
   ]
  },
  {
   "cell_type": "code",
   "execution_count": 15,
   "id": "c167de9a",
   "metadata": {},
   "outputs": [
    {
     "data": {
      "text/plain": [
       "array([4, 3, 4, 5, 6])"
      ]
     },
     "execution_count": 15,
     "metadata": {},
     "output_type": "execute_result"
    }
   ],
   "source": [
    "arr2 = np.delete(arr, [0, 1,2,3,4])\n",
    "arr2"
   ]
  },
  {
   "cell_type": "code",
   "execution_count": 16,
   "id": "2be6094d",
   "metadata": {},
   "outputs": [],
   "source": [
    "## How todelete in cells"
   ]
  },
  {
   "cell_type": "code",
   "execution_count": 17,
   "id": "78ef5eb3",
   "metadata": {},
   "outputs": [],
   "source": [
    "# Copying an array"
   ]
  },
  {
   "cell_type": "code",
   "execution_count": 18,
   "id": "bb07fa72",
   "metadata": {},
   "outputs": [],
   "source": [
    "arr2= np.array([4, 5, 6, 7, 8])"
   ]
  },
  {
   "cell_type": "code",
   "execution_count": 20,
   "id": "ef4f03d9",
   "metadata": {},
   "outputs": [
    {
     "data": {
      "text/plain": [
       "array([4, 5, 6, 7, 8])"
      ]
     },
     "execution_count": 20,
     "metadata": {},
     "output_type": "execute_result"
    }
   ],
   "source": [
    "arr3 = arr2.copy()\n",
    "arr3"
   ]
  },
  {
   "cell_type": "code",
   "execution_count": 25,
   "id": "68d365c8",
   "metadata": {},
   "outputs": [
    {
     "data": {
      "text/plain": [
       "array([[1, 2, 3],\n",
       "       [1, 2, 3],\n",
       "       [4, 5, 6],\n",
       "       [4, 5, 6]])"
      ]
     },
     "execution_count": 25,
     "metadata": {},
     "output_type": "execute_result"
    }
   ],
   "source": [
    "arr1 = np.array([[1, 2, 3], [1, 2, 3]])\n",
    "arr4 = np.array([[4, 5, 6],[4, 5, 6]])\n",
    "arr_cat = np.concatenate((arr1, arr4), axis = 0)\n",
    "arr_cat"
   ]
  },
  {
   "cell_type": "code",
   "execution_count": 29,
   "id": "08dcf11a",
   "metadata": {},
   "outputs": [
    {
     "data": {
      "text/plain": [
       "array([[1, 2, 3],\n",
       "       [1, 2, 3],\n",
       "       [4, 5, 6],\n",
       "       [4, 5, 6]])"
      ]
     },
     "execution_count": 29,
     "metadata": {},
     "output_type": "execute_result"
    }
   ],
   "source": [
    "catV = np.vstack((arr1, arr4))\n",
    "catV"
   ]
  },
  {
   "cell_type": "code",
   "execution_count": 31,
   "id": "6df7387e",
   "metadata": {},
   "outputs": [
    {
     "data": {
      "text/plain": [
       "array([[1, 2, 3, 4, 5, 6],\n",
       "       [1, 2, 3, 4, 5, 6]])"
      ]
     },
     "execution_count": 31,
     "metadata": {},
     "output_type": "execute_result"
    }
   ],
   "source": [
    "catH = np.hstack((arr1, arr4))\n",
    "catH"
   ]
  },
  {
   "cell_type": "code",
   "execution_count": 41,
   "id": "e13deff5",
   "metadata": {},
   "outputs": [
    {
     "data": {
      "text/plain": [
       "array([2, 2, 4, 7, 7, 8, 5, 3, 5, 6])"
      ]
     },
     "execution_count": 41,
     "metadata": {},
     "output_type": "execute_result"
    }
   ],
   "source": [
    "array = np.random.randint(1, 10, 10)\n",
    "array"
   ]
  },
  {
   "cell_type": "code",
   "execution_count": 56,
   "id": "f3701fc7",
   "metadata": {},
   "outputs": [
    {
     "data": {
      "text/plain": [
       "(array([2, 3, 4, 5, 6, 7, 8]), array([2, 1, 1, 2, 1, 2, 1], dtype=int64))"
      ]
     },
     "execution_count": 56,
     "metadata": {},
     "output_type": "execute_result"
    }
   ],
   "source": [
    "np.unique(array, return_counts = True)"
   ]
  },
  {
   "cell_type": "code",
   "execution_count": 58,
   "id": "3dd6064d",
   "metadata": {},
   "outputs": [
    {
     "name": "stdout",
     "output_type": "stream",
     "text": [
      "[2 3 4 5 8]\n",
      "[1 2 3 4 5 6 7 8 9]\n",
      "[6 7]\n",
      "[1 6 7 9]\n"
     ]
    }
   ],
   "source": [
    "array2 = np.random.randint(1, 10, 10)\n",
    "print(np.intersect1d(array, array2))\n",
    "print(np.union1d(array,array2))\n",
    "print(np.setdiff1d(array, array2))\n",
    "print(np.setxor1d(array, array2))"
   ]
  },
  {
   "cell_type": "code",
   "execution_count": null,
   "id": "9dffcefe",
   "metadata": {},
   "outputs": [],
   "source": []
  }
 ],
 "metadata": {
  "kernelspec": {
   "display_name": "Python 3 (ipykernel)",
   "language": "python",
   "name": "python3"
  },
  "language_info": {
   "codemirror_mode": {
    "name": "ipython",
    "version": 3
   },
   "file_extension": ".py",
   "mimetype": "text/x-python",
   "name": "python",
   "nbconvert_exporter": "python",
   "pygments_lexer": "ipython3",
   "version": "3.9.12"
  }
 },
 "nbformat": 4,
 "nbformat_minor": 5
}
