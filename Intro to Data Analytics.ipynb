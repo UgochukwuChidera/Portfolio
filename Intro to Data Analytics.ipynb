{
 "cells": [
  {
   "cell_type": "code",
   "execution_count": 1,
   "id": "b868d3d3",
   "metadata": {},
   "outputs": [],
   "source": [
    "import numpy as np"
   ]
  },
  {
   "cell_type": "code",
   "execution_count": 2,
   "id": "d9b02ee2",
   "metadata": {},
   "outputs": [
    {
     "data": {
      "text/plain": [
       "array([[1, 2],\n",
       "       [3, 4]])"
      ]
     },
     "execution_count": 2,
     "metadata": {},
     "output_type": "execute_result"
    }
   ],
   "source": [
    "arr1 = np.array([[1, 2], [3, 4]])\n",
    "arr1"
   ]
  },
  {
   "cell_type": "code",
   "execution_count": 3,
   "id": "20800a93",
   "metadata": {},
   "outputs": [
    {
     "data": {
      "text/plain": [
       "2"
      ]
     },
     "execution_count": 3,
     "metadata": {},
     "output_type": "execute_result"
    }
   ],
   "source": [
    "arr1[0][-1]"
   ]
  },
  {
   "cell_type": "code",
   "execution_count": 4,
   "id": "8b6bbb2e",
   "metadata": {},
   "outputs": [
    {
     "data": {
      "text/plain": [
       "(2, 2)"
      ]
     },
     "execution_count": 4,
     "metadata": {},
     "output_type": "execute_result"
    }
   ],
   "source": [
    "arr1.shape"
   ]
  },
  {
   "cell_type": "code",
   "execution_count": 5,
   "id": "49dd0ff4",
   "metadata": {},
   "outputs": [
    {
     "data": {
      "text/plain": [
       "array(['India', 'China', 'USA', 'Mexico'], dtype='<U6')"
      ]
     },
     "execution_count": 5,
     "metadata": {},
     "output_type": "execute_result"
    }
   ],
   "source": [
    "arr2 = np.array([\"India\", \"China\", \"USA\", \"Mexico\"])\n",
    "arr2"
   ]
  },
  {
   "cell_type": "code",
   "execution_count": 6,
   "id": "ce5d1399",
   "metadata": {},
   "outputs": [
    {
     "data": {
      "text/plain": [
       "array([  0,   3,   6,   9,  12,  15,  18,  21,  24,  27,  30,  33,  36,\n",
       "        39,  42,  45,  48,  51,  54,  57,  60,  63,  66,  69,  72,  75,\n",
       "        78,  81,  84,  87,  90,  93,  96,  99, 102, 105, 108, 111, 114,\n",
       "       117, 120, 123, 126, 129, 132, 135, 138, 141, 144, 147, 150, 153,\n",
       "       156, 159, 162, 165, 168, 171, 174, 177, 180, 183, 186, 189, 192,\n",
       "       195, 198])"
      ]
     },
     "execution_count": 6,
     "metadata": {},
     "output_type": "execute_result"
    }
   ],
   "source": [
    "np.arange(0, 200, 3)"
   ]
  },
  {
   "cell_type": "code",
   "execution_count": 7,
   "id": "2ee26e49",
   "metadata": {},
   "outputs": [
    {
     "data": {
      "text/plain": [
       "array([ 0.        ,  0.52631579,  1.05263158,  1.57894737,  2.10526316,\n",
       "        2.63157895,  3.15789474,  3.68421053,  4.21052632,  4.73684211,\n",
       "        5.26315789,  5.78947368,  6.31578947,  6.84210526,  7.36842105,\n",
       "        7.89473684,  8.42105263,  8.94736842,  9.47368421, 10.        ])"
      ]
     },
     "execution_count": 7,
     "metadata": {},
     "output_type": "execute_result"
    }
   ],
   "source": [
    "arr3 = np.linspace(0, 10, 20)\n",
    "arr3"
   ]
  },
  {
   "cell_type": "code",
   "execution_count": 8,
   "id": "d7294a02",
   "metadata": {},
   "outputs": [
    {
     "data": {
      "text/plain": [
       "array([[0.91333683, 0.40080981, 0.41850961, 0.38819539, 0.34524208,\n",
       "        0.93029674, 0.93932551, 0.33693049, 0.74874822, 0.17246091],\n",
       "       [0.07535265, 0.24575922, 0.79746707, 0.04877411, 0.95668686,\n",
       "        0.15053278, 0.34190627, 0.79394314, 0.9222532 , 0.54987133],\n",
       "       [0.36412537, 0.87920551, 0.55367808, 0.80760972, 0.18504983,\n",
       "        0.99482456, 0.63568986, 0.66391932, 0.77135435, 0.60569654],\n",
       "       [0.07311261, 0.43536905, 0.64267697, 0.20325561, 0.64975251,\n",
       "        0.05403464, 0.39260207, 0.01471312, 0.16471397, 0.69137289],\n",
       "       [0.0346799 , 0.13928162, 0.8765557 , 0.39239163, 0.16072894,\n",
       "        0.36371279, 0.39678658, 0.3095794 , 0.72537882, 0.32155214],\n",
       "       [0.64371766, 0.84549783, 0.30271142, 0.17484089, 0.18035046,\n",
       "        0.45745613, 0.04285468, 0.13112364, 0.43691005, 0.12857146],\n",
       "       [0.65133243, 0.67261042, 0.40545788, 0.38413047, 0.76196857,\n",
       "        0.33594642, 0.35936774, 0.51479973, 0.84879641, 0.38498506],\n",
       "       [0.92274668, 0.13781664, 0.50431843, 0.36652053, 0.22249017,\n",
       "        0.90645172, 0.07152201, 0.35521119, 0.57252326, 0.58917229],\n",
       "       [0.99686754, 0.0166345 , 0.62458748, 0.62744621, 0.28789512,\n",
       "        0.96732773, 0.09300418, 0.39457789, 0.26228095, 0.57900286],\n",
       "       [0.35915117, 0.73880015, 0.6167301 , 0.62298309, 0.57790883,\n",
       "        0.91511821, 0.47881315, 0.66682558, 0.43707776, 0.77569773]])"
      ]
     },
     "execution_count": 8,
     "metadata": {},
     "output_type": "execute_result"
    }
   ],
   "source": [
    "arr = np.random.rand(10, 10)\n",
    "arr"
   ]
  },
  {
   "cell_type": "code",
   "execution_count": 9,
   "id": "7e8954e5",
   "metadata": {
    "scrolled": true
   },
   "outputs": [
    {
     "name": "stdout",
     "output_type": "stream",
     "text": [
      "[0. 0. 0. 0. 0. 0. 0. 0. 0. 0. 0. 0.]\n",
      "[0. 0. 0. 0. 0. 0. 0. 0. 0. 0. 0. 0.]\n"
     ]
    }
   ],
   "source": [
    "print(np.zeros(12))\n",
    "print(np.zeros(12))"
   ]
  },
  {
   "cell_type": "code",
   "execution_count": 10,
   "id": "cc40f5a8",
   "metadata": {},
   "outputs": [
    {
     "name": "stdout",
     "output_type": "stream",
     "text": [
      "[[1. 1. 1. 1. 1.]\n",
      " [1. 1. 1. 1. 1.]\n",
      " [1. 1. 1. 1. 1.]\n",
      " [1. 1. 1. 1. 1.]\n",
      " [1. 1. 1. 1. 1.]]\n"
     ]
    }
   ],
   "source": [
    "print(np.ones((5, 5)))"
   ]
  },
  {
   "cell_type": "code",
   "execution_count": 11,
   "id": "013f7533",
   "metadata": {},
   "outputs": [
    {
     "name": "stdout",
     "output_type": "stream",
     "text": [
      "[1 1 1 1 1 2 2 2 2 2 3 3 3 3 3]\n",
      "[1 2 3 1 2 3 1 2 3]\n"
     ]
    }
   ],
   "source": [
    "arr4= [1, 2, 3]\n",
    "print(np.repeat(arr4, 5))\n",
    "print(np.tile(arr4, 3))"
   ]
  },
  {
   "cell_type": "code",
   "execution_count": 12,
   "id": "8d0b8bd8",
   "metadata": {},
   "outputs": [
    {
     "name": "stdout",
     "output_type": "stream",
     "text": [
      "[[1. 0. 0.]\n",
      " [0. 1. 0.]\n",
      " [0. 0. 1.]]\n",
      "[[1 0 0]\n",
      " [0 2 0]\n",
      " [0 0 3]]\n"
     ]
    },
    {
     "data": {
      "text/plain": [
       "array([1, 2, 3])"
      ]
     },
     "execution_count": 12,
     "metadata": {},
     "output_type": "execute_result"
    }
   ],
   "source": [
    "print(np.eye(3))\n",
    "arr5 = np.diag([1, 2, 3])\n",
    "print(arr5)\n",
    "np.diag(arr5)"
   ]
  },
  {
   "cell_type": "code",
   "execution_count": 13,
   "id": "ee962b91",
   "metadata": {},
   "outputs": [
    {
     "data": {
      "text/plain": [
       "array([[0.15525914, 0.40701544, 0.83338745, 0.56839561],\n",
       "       [0.02161005, 0.3699812 , 0.7428172 , 0.99536644],\n",
       "       [0.06479779, 0.64654165, 0.92227999, 0.08908659],\n",
       "       [0.64754132, 0.77170927, 0.2503102 , 0.21261474]])"
      ]
     },
     "execution_count": 13,
     "metadata": {},
     "output_type": "execute_result"
    }
   ],
   "source": [
    "arrZ = np.random.rand(4, 4)\n",
    "arrZ"
   ]
  },
  {
   "cell_type": "code",
   "execution_count": 65,
   "id": "16a95e1c",
   "metadata": {},
   "outputs": [
    {
     "data": {
      "text/plain": [
       "array([[0.41402953, 0.29688917, 0.50356527],\n",
       "       [0.78092989, 0.69097176, 0.15414374],\n",
       "       [0.41252518, 0.89382183, 0.87223723]])"
      ]
     },
     "execution_count": 65,
     "metadata": {},
     "output_type": "execute_result"
    }
   ],
   "source": [
    "def rand_arr(row, col):\n",
    "    return np.random.rand(row, col)\n",
    "\n",
    "arrY = rand_arr(3, 3)\n",
    "arrY"
   ]
  },
  {
   "cell_type": "code",
   "execution_count": 66,
   "id": "2ab64f94",
   "metadata": {},
   "outputs": [
    {
     "data": {
      "text/plain": [
       "2"
      ]
     },
     "execution_count": 66,
     "metadata": {},
     "output_type": "execute_result"
    }
   ],
   "source": [
    "arrZ.ndim"
   ]
  },
  {
   "cell_type": "code",
   "execution_count": 67,
   "id": "fcced53e",
   "metadata": {},
   "outputs": [
    {
     "data": {
      "text/plain": [
       "array([5, 3, 1, 2, 2, 4, 6, 3, 6, 4])"
      ]
     },
     "execution_count": 67,
     "metadata": {},
     "output_type": "execute_result"
    }
   ],
   "source": [
    "np.random.randint(1, 7, 10)"
   ]
  },
  {
   "cell_type": "code",
   "execution_count": 73,
   "id": "ea478003",
   "metadata": {},
   "outputs": [
    {
     "data": {
      "text/plain": [
       "array([0.88920831, 2.19524756, 2.74879484, 1.86546338])"
      ]
     },
     "execution_count": 73,
     "metadata": {},
     "output_type": "execute_result"
    }
   ],
   "source": [
    "np.sum(arrZ, axis = 0)"
   ]
  },
  {
   "cell_type": "code",
   "execution_count": 75,
   "id": "be853fd9",
   "metadata": {},
   "outputs": [
    {
     "data": {
      "text/plain": [
       "array([1.21448397, 1.62604539, 2.17858424])"
      ]
     },
     "execution_count": 75,
     "metadata": {},
     "output_type": "execute_result"
    }
   ],
   "source": [
    "np.sum(arrY, axis = 1)\n"
   ]
  },
  {
   "cell_type": "code",
   "execution_count": 76,
   "id": "d4e69a17",
   "metadata": {},
   "outputs": [
    {
     "data": {
      "text/plain": [
       "0.15414374281380006"
      ]
     },
     "execution_count": 76,
     "metadata": {},
     "output_type": "execute_result"
    }
   ],
   "source": [
    "np.min(arrY)"
   ]
  },
  {
   "cell_type": "code",
   "execution_count": 78,
   "id": "349032b1",
   "metadata": {},
   "outputs": [
    {
     "data": {
      "text/plain": [
       "array([0.83338745, 0.99536644, 0.92227999, 0.77170927])"
      ]
     },
     "execution_count": 78,
     "metadata": {},
     "output_type": "execute_result"
    }
   ],
   "source": [
    "np.max(arrZ, axis = 1)"
   ]
  },
  {
   "cell_type": "code",
   "execution_count": 81,
   "id": "8b6327c0",
   "metadata": {},
   "outputs": [
    {
     "data": {
      "text/plain": [
       "0.5576792885102984"
      ]
     },
     "execution_count": 81,
     "metadata": {},
     "output_type": "execute_result"
    }
   ],
   "source": [
    "np.mean(arrY)"
   ]
  },
  {
   "cell_type": "code",
   "execution_count": 83,
   "id": "ef7ac117",
   "metadata": {},
   "outputs": [
    {
     "data": {
      "text/plain": [
       "0.48770552293262853"
      ]
     },
     "execution_count": 83,
     "metadata": {},
     "output_type": "execute_result"
    }
   ],
   "source": [
    "np.median(arrZ)"
   ]
  },
  {
   "cell_type": "code",
   "execution_count": 85,
   "id": "3dcdffc0",
   "metadata": {},
   "outputs": [
    {
     "data": {
      "text/plain": [
       "0.24833488530449876"
      ]
     },
     "execution_count": 85,
     "metadata": {},
     "output_type": "execute_result"
    }
   ],
   "source": [
    "np.std(arrY)"
   ]
  },
  {
   "cell_type": "code",
   "execution_count": 87,
   "id": "ea86b00c",
   "metadata": {},
   "outputs": [
    {
     "data": {
      "text/plain": [
       "0.06167021525919855"
      ]
     },
     "execution_count": 87,
     "metadata": {},
     "output_type": "execute_result"
    }
   ],
   "source": [
    "np.var(arrY)"
   ]
  },
  {
   "cell_type": "code",
   "execution_count": 94,
   "id": "0216052d",
   "metadata": {},
   "outputs": [
    {
     "data": {
      "text/plain": [
       "array([[0.04616346, 0.80243003, 0.19703008, 0.96431351, 0.04265002],\n",
       "       [0.70678966, 0.15385816, 0.12655239, 0.12955807, 0.02474236],\n",
       "       [0.04125062, 0.78303916, 0.0267434 , 0.4294228 , 0.26347849],\n",
       "       [0.26522012, 0.32000177, 0.13114274, 0.59595444, 0.5041638 ],\n",
       "       [0.13333446, 0.13333089, 0.48665004, 0.48389071, 0.42037075]])"
      ]
     },
     "execution_count": 94,
     "metadata": {},
     "output_type": "execute_result"
    }
   ],
   "source": [
    "aray = np.random.random([5, 5])\n",
    "aray"
   ]
  },
  {
   "cell_type": "code",
   "execution_count": 97,
   "id": "f94f3763",
   "metadata": {},
   "outputs": [
    {
     "data": {
      "text/plain": [
       "array([[0.12955807, 0.02474236],\n",
       "       [0.4294228 , 0.26347849],\n",
       "       [0.59595444, 0.5041638 ],\n",
       "       [0.48389071, 0.42037075]])"
      ]
     },
     "execution_count": 97,
     "metadata": {},
     "output_type": "execute_result"
    }
   ],
   "source": [
    "aray[1:, 3:]"
   ]
  },
  {
   "cell_type": "code",
   "execution_count": 99,
   "id": "2b2d40f9",
   "metadata": {},
   "outputs": [
    {
     "data": {
      "text/plain": [
       "array([[0.04125062, 0.13333089, 0.0267434 , 0.12955807, 0.02474236],\n",
       "       [0.04616346, 0.15385816, 0.12655239, 0.4294228 , 0.04265002],\n",
       "       [0.13333446, 0.32000177, 0.13114274, 0.48389071, 0.26347849],\n",
       "       [0.26522012, 0.78303916, 0.19703008, 0.59595444, 0.42037075],\n",
       "       [0.70678966, 0.80243003, 0.48665004, 0.96431351, 0.5041638 ]])"
      ]
     },
     "execution_count": 99,
     "metadata": {},
     "output_type": "execute_result"
    }
   ],
   "source": [
    "np.sort(aray, axis=0)"
   ]
  },
  {
   "cell_type": "code",
   "execution_count": 103,
   "id": "08a8bcfc",
   "metadata": {},
   "outputs": [
    {
     "data": {
      "text/plain": [
       "array([[0.04616346, 0.70678966, 0.04125062, 0.26522012, 0.13333446],\n",
       "       [0.80243003, 0.15385816, 0.78303916, 0.32000177, 0.13333089],\n",
       "       [0.19703008, 0.12655239, 0.0267434 , 0.13114274, 0.48665004],\n",
       "       [0.96431351, 0.12955807, 0.4294228 , 0.59595444, 0.48389071],\n",
       "       [0.04265002, 0.02474236, 0.26347849, 0.5041638 , 0.42037075]])"
      ]
     },
     "execution_count": 103,
     "metadata": {},
     "output_type": "execute_result"
    }
   ],
   "source": [
    "aray.T"
   ]
  },
  {
   "cell_type": "code",
   "execution_count": 105,
   "id": "bbf845ef",
   "metadata": {},
   "outputs": [
    {
     "data": {
      "text/plain": [
       "array([[0.04616346, 0.80243003, 0.19703008, 0.96431351, 0.04265002],\n",
       "       [0.70678966, 0.15385816, 0.12655239, 0.12955807, 0.02474236],\n",
       "       [0.04125062, 0.78303916, 0.0267434 , 0.4294228 , 0.26347849],\n",
       "       [0.26522012, 0.32000177, 0.13114274, 0.59595444, 0.5041638 ],\n",
       "       [0.13333446, 0.13333089, 0.48665004, 0.48389071, 0.42037075]])"
      ]
     },
     "execution_count": 105,
     "metadata": {},
     "output_type": "execute_result"
    }
   ],
   "source": [
    "aray"
   ]
  },
  {
   "cell_type": "code",
   "execution_count": 106,
   "id": "9759df8f",
   "metadata": {},
   "outputs": [
    {
     "data": {
      "text/plain": [
       "array([0.04616346, 0.80243003, 0.19703008, 0.96431351, 0.04265002,\n",
       "       0.70678966, 0.15385816, 0.12655239, 0.12955807, 0.02474236,\n",
       "       0.04125062, 0.78303916, 0.0267434 , 0.4294228 , 0.26347849,\n",
       "       0.26522012, 0.32000177, 0.13114274, 0.59595444, 0.5041638 ,\n",
       "       0.13333446, 0.13333089, 0.48665004, 0.48389071, 0.42037075])"
      ]
     },
     "execution_count": 106,
     "metadata": {},
     "output_type": "execute_result"
    }
   ],
   "source": [
    "aray.flatten()"
   ]
  }
 ],
 "metadata": {
  "kernelspec": {
   "display_name": "Python 3 (ipykernel)",
   "language": "python",
   "name": "python3"
  },
  "language_info": {
   "codemirror_mode": {
    "name": "ipython",
    "version": 3
   },
   "file_extension": ".py",
   "mimetype": "text/x-python",
   "name": "python",
   "nbconvert_exporter": "python",
   "pygments_lexer": "ipython3",
   "version": "3.9.12"
  }
 },
 "nbformat": 4,
 "nbformat_minor": 5
}
